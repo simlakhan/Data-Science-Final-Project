{
  "nbformat": 4,
  "nbformat_minor": 0,
  "metadata": {
    "colab": {
      "provenance": [],
      "authorship_tag": "ABX9TyPYNSpPLjdMDN56SgUTVgPx",
      "include_colab_link": true
    },
    "kernelspec": {
      "name": "python3",
      "display_name": "Python 3"
    },
    "language_info": {
      "name": "python"
    }
  },
  "cells": [
    {
      "cell_type": "markdown",
      "metadata": {
        "id": "view-in-github",
        "colab_type": "text"
      },
      "source": [
        "<a href=\"https://colab.research.google.com/github/simlakhan/Data-Science-Final-Project/blob/main/NumpyHands_On.ipynb\" target=\"_parent\"><img src=\"https://colab.research.google.com/assets/colab-badge.svg\" alt=\"Open In Colab\"/></a>"
      ]
    },
    {
      "cell_type": "markdown",
      "source": [
        "Numpy Hands-On"
      ],
      "metadata": {
        "id": "OoFkAJmJJkpn"
      }
    },
    {
      "cell_type": "code",
      "source": [
        "import numpy as np  # Import the NumPy library\n",
        "\n",
        "# Create a 1D NumPy array containing the squares of numbers from 1 to 5\n",
        "arr = np.array([x**2 for x in range(1, 6)])\n",
        "\n",
        "# Print the result\n",
        "print(\"arr =\", arr)\n"
      ],
      "metadata": {
        "colab": {
          "base_uri": "https://localhost:8080/"
        },
        "id": "eMfpsg-NMcqa",
        "outputId": "839bd15e-5639-447b-f4a4-a4dc13433651"
      },
      "execution_count": 5,
      "outputs": [
        {
          "output_type": "stream",
          "name": "stdout",
          "text": [
            "arr = [ 1  4  9 16 25]\n"
          ]
        }
      ]
    },
    {
      "cell_type": "code",
      "source": [],
      "metadata": {
        "id": "KlZKQ2jnJwAd"
      },
      "execution_count": null,
      "outputs": []
    },
    {
      "cell_type": "code",
      "source": [
        "# 2# Write a program to create a 3*3 identity matrix using NumPy\n",
        "\n",
        "# Create a 3*3 identity matrix\n",
        "identity_matrix = np.eye(3)\n",
        "\n",
        "# Print the identity matrix\n",
        "print(\"identity_matrix =\")\n",
        "print(identity_matrix)"
      ],
      "metadata": {
        "colab": {
          "base_uri": "https://localhost:8080/"
        },
        "id": "2wjaR41VJwDl",
        "outputId": "aea7506e-9918-4aad-9e28-acfd46cb7f31"
      },
      "execution_count": 7,
      "outputs": [
        {
          "output_type": "stream",
          "name": "stdout",
          "text": [
            "identity_matrix =\n",
            "[[1. 0. 0.]\n",
            " [0. 1. 0.]\n",
            " [0. 0. 1.]]\n"
          ]
        }
      ]
    },
    {
      "cell_type": "code",
      "source": [],
      "metadata": {
        "id": "e9vbxq9AJwH-"
      },
      "execution_count": null,
      "outputs": []
    },
    {
      "cell_type": "code",
      "source": [
        "# 3# Write code to reshape a 1D NumPy array [1,2,3,4,5,6] into a 2D array with 2 rows and 3 columns\n",
        "\n",
        "# Create the 1D NumPy array\n",
        "arr = np.array([1, 2, 3, 4, 5, 6])\n",
        "\n",
        "# Reshape the 1D array into a 2D array with 2 rows and 3 columns\n",
        "reshaped_arr = arr.reshape(2, 3)\n",
        "\n",
        "# Print the reshaped 2D array\n",
        "print(\"reshaped_arr =\")\n",
        "print(reshaped_arr)"
      ],
      "metadata": {
        "colab": {
          "base_uri": "https://localhost:8080/"
        },
        "id": "4NcTpS4DJwL4",
        "outputId": "d30f1cc3-e111-436d-e84d-ad2e1d4430a7"
      },
      "execution_count": 10,
      "outputs": [
        {
          "output_type": "stream",
          "name": "stdout",
          "text": [
            "reshaped_arr =\n",
            "[[1 2 3]\n",
            " [4 5 6]]\n"
          ]
        }
      ]
    },
    {
      "cell_type": "code",
      "source": [],
      "metadata": {
        "id": "xZZNRIHXJwS9"
      },
      "execution_count": null,
      "outputs": []
    },
    {
      "cell_type": "code",
      "source": [
        "# 4# Create a 3D NumPy array of shape (2,2,3) with random integers between 0 and 10\n",
        "\n",
        "# Create a 3D NumPy array of shape (2, 2, 3) with random integers between 0 and 10\n",
        "arr_3d = np.random.randint(0, 10, (2, 2, 3))\n",
        "\n",
        "# Print the 3D array\n",
        "print(\"arr_3d =\")\n",
        "print(arr_3d)"
      ],
      "metadata": {
        "colab": {
          "base_uri": "https://localhost:8080/"
        },
        "id": "tmg0nUGGRbuH",
        "outputId": "e26c866d-ded7-4c70-c04c-a7904dee3d75"
      },
      "execution_count": 13,
      "outputs": [
        {
          "output_type": "stream",
          "name": "stdout",
          "text": [
            "arr_3d =\n",
            "[[[6 0 7]\n",
            "  [4 5 0]]\n",
            "\n",
            " [[2 6 8]\n",
            "  [0 3 5]]]\n"
          ]
        }
      ]
    },
    {
      "cell_type": "code",
      "source": [],
      "metadata": {
        "id": "_nUADgbaRbxb"
      },
      "execution_count": null,
      "outputs": []
    },
    {
      "cell_type": "code",
      "source": [
        "# 5# Given a 1D Numpy array arr = np.array([10, 20, 30, 40, 50]), how would you extract the subarray [20, 30, 40] using slicing?\n",
        "\n",
        "# Create the 1D NumPy array\n",
        "arr = np.array([10, 20, 30, 40, 50])\n",
        "\n",
        "# Extract the subarray [20, 30, 40] using slicing\n",
        "subarray = arr[1:4]  # Start from index 1, up to but not including index 4\n",
        "\n",
        "# Print the subarray\n",
        "print(\"subarray =\", subarray)"
      ],
      "metadata": {
        "colab": {
          "base_uri": "https://localhost:8080/"
        },
        "id": "4dkRt8EERb07",
        "outputId": "e66a1b8b-94b3-4b89-d20c-d75347d4149d"
      },
      "execution_count": 14,
      "outputs": [
        {
          "output_type": "stream",
          "name": "stdout",
          "text": [
            "subarray = [20 30 40]\n"
          ]
        }
      ]
    },
    {
      "cell_type": "code",
      "source": [],
      "metadata": {
        "id": "lyR0OZo5Rb4N"
      },
      "execution_count": null,
      "outputs": []
    },
    {
      "cell_type": "code",
      "source": [
        "# 6# Consider the 2D array arr = np.array([[1, 2, 3], [4, 5, 6], [7, 8, 9]]). How would you slice out the second row [4, 5, 6]?\n",
        "\n",
        "# Create the 2D NumPy array\n",
        "arr = np.array([[1, 2, 3], [4, 5, 6], [7, 8, 9]])\n",
        "\n",
        "# Slice out the second row [4, 5, 6]\n",
        "second_row = arr[1, :]  # Use row index 1 and all columns (:) to extract the second row\n",
        "\n",
        "# Print the second row\n",
        "print(\"second_row =\", second_row)"
      ],
      "metadata": {
        "colab": {
          "base_uri": "https://localhost:8080/"
        },
        "id": "MtGUF0nBRb7V",
        "outputId": "a800c256-010f-4e8e-f32e-9d484a1c3fd6"
      },
      "execution_count": 15,
      "outputs": [
        {
          "output_type": "stream",
          "name": "stdout",
          "text": [
            "second_row = [4 5 6]\n"
          ]
        }
      ]
    },
    {
      "cell_type": "code",
      "source": [],
      "metadata": {
        "id": "8qj0QjyZbqfd"
      },
      "execution_count": null,
      "outputs": []
    },
    {
      "cell_type": "code",
      "source": [
        "# 7# For the 2D array arr = np.array([[1, 2, 3], [4, 5, 6], [7, 8, 9]]). How would you extract the first two columns as a new 2D array?\n",
        "\n",
        "# Create the 2D NumPy array\n",
        "arr = np.array([[1, 2, 3], [4, 5, 6], [7, 8, 9]])\n",
        "\n",
        "# Extract the first two columns as a new 2D array\n",
        "first_two_columns = arr[:, :2]  # Select all rows (:) and the first two columns (:2)\n",
        "\n",
        "# Print the new 2D array\n",
        "print(\"first_two_columns =\")\n",
        "print(first_two_columns)"
      ],
      "metadata": {
        "colab": {
          "base_uri": "https://localhost:8080/"
        },
        "id": "8wkSFwGHbqi_",
        "outputId": "f49533b7-dde3-45cb-d3f8-37503d7f2e98"
      },
      "execution_count": 16,
      "outputs": [
        {
          "output_type": "stream",
          "name": "stdout",
          "text": [
            "first_two_columns =\n",
            "[[1 2]\n",
            " [4 5]\n",
            " [7 8]]\n"
          ]
        }
      ]
    },
    {
      "cell_type": "code",
      "source": [],
      "metadata": {
        "id": "XpGcPWPzc1Tz"
      },
      "execution_count": null,
      "outputs": []
    },
    {
      "cell_type": "code",
      "source": [
        "# 8# Given a 3D array arr = np.random.randint(1, 10, (3, 3, 3)), write a code to extract the second 2D slice (i.e., arr[1, :, :]).\n",
        "\n",
        "# Create a 3D NumPy array with random integers between 1 and 10, with shape (3, 3, 3)\n",
        "# Create a 3D array with random integers between 1 and 10\n",
        "arr = np.random.randint(1, 10, (3, 3, 3))\n",
        "\n",
        "# Extract the second 2D slice\n",
        "second_2d_slice = arr[1, :, :]\n",
        "\n",
        "# Print the original array and the slice\n",
        "print(\"arr =\")\n",
        "print(arr)\n",
        "print(\"\\nsecond_2d_slice =\")\n",
        "print(second_2d_slice)"
      ],
      "metadata": {
        "colab": {
          "base_uri": "https://localhost:8080/"
        },
        "id": "vs73oCpUc1XR",
        "outputId": "8e3f1d39-2f5e-4575-d8fc-984c716356c3"
      },
      "execution_count": 17,
      "outputs": [
        {
          "output_type": "stream",
          "name": "stdout",
          "text": [
            "arr =\n",
            "[[[3 9 2]\n",
            "  [7 6 9]\n",
            "  [1 4 6]]\n",
            "\n",
            " [[8 8 4]\n",
            "  [9 5 3]\n",
            "  [6 9 5]]\n",
            "\n",
            " [[7 6 4]\n",
            "  [4 2 6]\n",
            "  [8 7 8]]]\n",
            "\n",
            "second_2d_slice =\n",
            "[[8 8 4]\n",
            " [9 5 3]\n",
            " [6 9 5]]\n"
          ]
        }
      ]
    },
    {
      "cell_type": "code",
      "source": [],
      "metadata": {
        "id": "45Lw9keBc1ag"
      },
      "execution_count": null,
      "outputs": []
    },
    {
      "cell_type": "code",
      "source": [
        "# 9## For the array arr = np.array([10, 20, 30, 40, 50]), how would you slice and reverse the array to get [50, 40, 30, 20, 10]?\n",
        "\n",
        "# Create the 1D NumPy array\n",
        "arr = np.array([10, 20, 30, 40, 50])\n",
        "\n",
        "# Reverse the array using slicing\n",
        "reversed_arr = arr[::-1]  # The slice notation with -1 reverses the array\n",
        "\n",
        "# Print the reversed array\n",
        "print(\"reversed array:\", reversed_arr)"
      ],
      "metadata": {
        "colab": {
          "base_uri": "https://localhost:8080/"
        },
        "id": "PZXqs5Mjc1dp",
        "outputId": "14a26ffe-3c91-4cb6-e1a9-2f28dbd80fe1"
      },
      "execution_count": 18,
      "outputs": [
        {
          "output_type": "stream",
          "name": "stdout",
          "text": [
            "reversed array: [50 40 30 20 10]\n"
          ]
        }
      ]
    },
    {
      "cell_type": "code",
      "source": [],
      "metadata": {
        "id": "uWSDERhbc1hB"
      },
      "execution_count": null,
      "outputs": []
    },
    {
      "cell_type": "code",
      "source": [
        "# 10## Given two 1D arrays a = np.array([1, 2, 3]) and b = np.array([4, 5, 6]), write a code to calculate their dot product using NumPy.\n",
        "\n",
        "# Create the 1D NumPy arrays\n",
        "a = np.array([1, 2, 3])\n",
        "b = np.array([4, 5, 6])\n",
        "\n",
        "# Calculate the dot product using np.dot()\n",
        "dot_product = np.dot(a, b)\n",
        "\n",
        "# Print the result\n",
        "print(\"dot_product = a @ b\", dot_product)"
      ],
      "metadata": {
        "colab": {
          "base_uri": "https://localhost:8080/"
        },
        "id": "V3LC9Mn0c1ka",
        "outputId": "289f324e-8e15-4447-8d4b-2d6fa6d13a53"
      },
      "execution_count": 19,
      "outputs": [
        {
          "output_type": "stream",
          "name": "stdout",
          "text": [
            "dot_product = a @ b 32\n"
          ]
        }
      ]
    },
    {
      "cell_type": "code",
      "source": [],
      "metadata": {
        "id": "J2oSSV1hRb_B"
      },
      "execution_count": null,
      "outputs": []
    }
  ]
}