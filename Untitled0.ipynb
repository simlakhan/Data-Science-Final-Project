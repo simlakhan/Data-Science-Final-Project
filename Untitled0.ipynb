{
  "nbformat": 4,
  "nbformat_minor": 0,
  "metadata": {
    "colab": {
      "provenance": [],
      "authorship_tag": "ABX9TyO4eZblsxbJtghgxrlCXkpA",
      "include_colab_link": true
    },
    "kernelspec": {
      "name": "python3",
      "display_name": "Python 3"
    },
    "language_info": {
      "name": "python"
    }
  },
  "cells": [
    {
      "cell_type": "markdown",
      "metadata": {
        "id": "view-in-github",
        "colab_type": "text"
      },
      "source": [
        "<a href=\"https://colab.research.google.com/github/simlakhan/Data-Science-Final-Project/blob/main/Untitled0.ipynb\" target=\"_parent\"><img src=\"https://colab.research.google.com/assets/colab-badge.svg\" alt=\"Open In Colab\"/></a>"
      ]
    },
    {
      "cell_type": "markdown",
      "source": [
        "Numpy Hands-On"
      ],
      "metadata": {
        "id": "OoFkAJmJJkpn"
      }
    },
    {
      "cell_type": "code",
      "source": [
        "import numpy as np  # Import the NumPy library\n",
        "\n",
        "# Create a 1D NumPy array containing the squares of numbers from 1 to 5\n",
        "arr = np.array([1, 4, 9, 16, 25])\n",
        "print(arr)\n"
      ],
      "metadata": {
        "colab": {
          "base_uri": "https://localhost:8080/"
        },
        "id": "eMfpsg-NMcqa",
        "outputId": "a73554c9-e8b8-478c-89b5-c30dbcaebdd0"
      },
      "execution_count": 9,
      "outputs": [
        {
          "output_type": "stream",
          "name": "stdout",
          "text": [
            "[ 1  4  9 16 25]\n"
          ]
        }
      ]
    },
    {
      "cell_type": "code",
      "source": [],
      "metadata": {
        "id": "KlZKQ2jnJwAd"
      },
      "execution_count": null,
      "outputs": []
    },
    {
      "cell_type": "code",
      "source": [
        "## Write a program to create a 3*3 identity matrix using NumPy\n",
        "# Create a 3*3 identity matrix\n",
        "identity_matrix = np.eye(3)\n",
        "\n",
        "# Print the identity matrix\n",
        "print(\"3*3 Identity Matrix:\")\n",
        "print(identity_matrix)"
      ],
      "metadata": {
        "colab": {
          "base_uri": "https://localhost:8080/"
        },
        "id": "2wjaR41VJwDl",
        "outputId": "bb7f0e6d-2821-4595-f7f9-361502c8e6ba"
      },
      "execution_count": 10,
      "outputs": [
        {
          "output_type": "stream",
          "name": "stdout",
          "text": [
            "3*3 Identity Matrix:\n",
            "[[1. 0. 0.]\n",
            " [0. 1. 0.]\n",
            " [0. 0. 1.]]\n"
          ]
        }
      ]
    },
    {
      "cell_type": "code",
      "source": [],
      "metadata": {
        "id": "e9vbxq9AJwH-"
      },
      "execution_count": null,
      "outputs": []
    },
    {
      "cell_type": "code",
      "source": [
        "## Write code to reshape a 1D NumPy array [1,2,3,4,5,6] into a 2D array with 2 rows and 3 columns\n",
        "# Create the 1D NumPy array\n",
        "array_1d = np.array([1, 2, 3, 4, 5, 6])\n",
        "\n",
        "# Reshape the 1D array into a 2D array with 2 rows and 3 columns\n",
        "array_2d = array_1d.reshape(2, 3)\n",
        "\n",
        "# Print the reshaped 2D array\n",
        "print(\"2D Array with 2 Rows and 3 Columns:\")\n",
        "print(array_2d)"
      ],
      "metadata": {
        "colab": {
          "base_uri": "https://localhost:8080/"
        },
        "id": "4NcTpS4DJwL4",
        "outputId": "a7a0a2f3-e639-4bd2-c888-4798bb7ce863"
      },
      "execution_count": 11,
      "outputs": [
        {
          "output_type": "stream",
          "name": "stdout",
          "text": [
            "2D Array with 2 Rows and 3 Columns:\n",
            "[[1 2 3]\n",
            " [4 5 6]]\n"
          ]
        }
      ]
    },
    {
      "cell_type": "code",
      "source": [],
      "metadata": {
        "id": "xZZNRIHXJwS9"
      },
      "execution_count": null,
      "outputs": []
    },
    {
      "cell_type": "code",
      "source": [
        "## Create a 3D NumPy array of shape (2,2,3) with random integers between 0 and 10\n",
        "# Create a 3D NumPy array of shape (2, 2, 3) with random integers between 0 and 10\n",
        "array_3d = np.random.randint(0, 11, size=(2, 2, 3))\n",
        "\n",
        "# Print the 3D array\n",
        "print(\"3D Array with random integers between 0 and 10:\")\n",
        "print(array_3d)"
      ],
      "metadata": {
        "colab": {
          "base_uri": "https://localhost:8080/"
        },
        "id": "tmg0nUGGRbuH",
        "outputId": "ba44c7bd-bcaa-4028-9dda-b8454a427b84"
      },
      "execution_count": 12,
      "outputs": [
        {
          "output_type": "stream",
          "name": "stdout",
          "text": [
            "3D Array with random integers between 0 and 10:\n",
            "[[[ 4  9  6]\n",
            "  [ 3 10  4]]\n",
            "\n",
            " [[ 7  6  3]\n",
            "  [10  6  9]]]\n"
          ]
        }
      ]
    },
    {
      "cell_type": "code",
      "source": [],
      "metadata": {
        "id": "_nUADgbaRbxb"
      },
      "execution_count": null,
      "outputs": []
    },
    {
      "cell_type": "code",
      "source": [
        "## Given a 1D Numpy array arr = np.array([10, 20, 30, 40, 50]), how would you extract the subarray [20, 30, 40] using slicing?\n",
        "# Create the 1D NumPy array\n",
        "arr = np.array([10, 20, 30, 40, 50])\n",
        "\n",
        "# Extract the subarray [20, 30, 40] using slicing\n",
        "subarray = arr[1:4]  # Start from index 1, up to but not including index 4\n",
        "\n",
        "# Print the subarray\n",
        "print(\"Subarray:\", subarray)"
      ],
      "metadata": {
        "colab": {
          "base_uri": "https://localhost:8080/"
        },
        "id": "4dkRt8EERb07",
        "outputId": "8b7e3322-6ef9-4195-95c5-6c75f57a366c"
      },
      "execution_count": 13,
      "outputs": [
        {
          "output_type": "stream",
          "name": "stdout",
          "text": [
            "Subarray: [20 30 40]\n"
          ]
        }
      ]
    },
    {
      "cell_type": "code",
      "source": [],
      "metadata": {
        "id": "lyR0OZo5Rb4N"
      },
      "execution_count": null,
      "outputs": []
    },
    {
      "cell_type": "code",
      "source": [
        "## Consider the 2D array arr = np.array([[1, 2, 3], [4, 5, 6], [7, 8, 9]]). How would you slice out the second row [4, 5, 6]?\n",
        "# Create the 2D NumPy array\n",
        "arr = np.array([[1, 2, 3], [4, 5, 6], [7, 8, 9]])\n",
        "\n",
        "# Slice out the second row [4, 5, 6]\n",
        "second_row = arr[1, :]  # Use row index 1 and all columns (:) to extract the second row\n",
        "\n",
        "# Print the second row\n",
        "print(\"Second row:\", second_row)"
      ],
      "metadata": {
        "colab": {
          "base_uri": "https://localhost:8080/"
        },
        "id": "MtGUF0nBRb7V",
        "outputId": "4dc28e7e-4900-40cc-fb19-77d63ccb3648"
      },
      "execution_count": 14,
      "outputs": [
        {
          "output_type": "stream",
          "name": "stdout",
          "text": [
            "Second row: [4 5 6]\n"
          ]
        }
      ]
    },
    {
      "cell_type": "code",
      "source": [],
      "metadata": {
        "id": "8qj0QjyZbqfd"
      },
      "execution_count": null,
      "outputs": []
    },
    {
      "cell_type": "code",
      "source": [
        "## For the 2D array arr = np.array([[1, 2, 3], [4, 5, 6], [7, 8, 9]]). How would you extract the first two columns as a new 2D array?\n",
        "# Create the 2D NumPy array\n",
        "arr = np.array([[1, 2, 3], [4, 5, 6], [7, 8, 9]])\n",
        "\n",
        "# Extract the first two columns as a new 2D array\n",
        "first_two_columns = arr[:, :2]  # Select all rows (:) and the first two columns (:2)\n",
        "\n",
        "# Print the new 2D array\n",
        "print(\"First two columns:\")\n",
        "print(first_two_columns)"
      ],
      "metadata": {
        "colab": {
          "base_uri": "https://localhost:8080/"
        },
        "id": "8wkSFwGHbqi_",
        "outputId": "a03cf8ea-e101-43b8-acc4-de56e75bd570"
      },
      "execution_count": 15,
      "outputs": [
        {
          "output_type": "stream",
          "name": "stdout",
          "text": [
            "First two columns:\n",
            "[[1 2]\n",
            " [4 5]\n",
            " [7 8]]\n"
          ]
        }
      ]
    },
    {
      "cell_type": "code",
      "source": [],
      "metadata": {
        "id": "XpGcPWPzc1Tz"
      },
      "execution_count": null,
      "outputs": []
    },
    {
      "cell_type": "code",
      "source": [
        "## Given a 3D array arr = np.random.randint(1, 10, (3, 3, 3)), write a code to extract the second 2D slice (i.e., arr[1, :, :]).\n",
        "# Create a 3D NumPy array with random integers between 1 and 10, with shape (3, 3, 3)\n",
        "arr = np.random.randint(1, 10, (3, 3, 3))\n",
        "\n",
        "# Print the original 3D array\n",
        "print(\"Original 3D Array:\")\n",
        "print(arr)\n",
        "\n",
        "# Extract the second 2D slice (arr[1, :, :])\n",
        "second_2d_slice = arr[1, :, :]  # Select the second slice along the first dimension (index 1)\n",
        "\n",
        "# Print the second 2D slice\n",
        "print(\"\\nSecond 2D Slice (arr[1, :, :]):\")\n",
        "print(second_2d_slice)"
      ],
      "metadata": {
        "colab": {
          "base_uri": "https://localhost:8080/"
        },
        "id": "vs73oCpUc1XR",
        "outputId": "3c347823-f6a6-4289-e265-a3bd902fc86d"
      },
      "execution_count": 21,
      "outputs": [
        {
          "output_type": "stream",
          "name": "stdout",
          "text": [
            "Original 3D Array:\n",
            "[[[8 5 3]\n",
            "  [3 5 5]\n",
            "  [5 5 1]]\n",
            "\n",
            " [[6 1 4]\n",
            "  [7 4 7]\n",
            "  [8 3 3]]\n",
            "\n",
            " [[9 3 4]\n",
            "  [8 7 4]\n",
            "  [7 1 8]]]\n",
            "\n",
            "Second 2D Slice (arr[1, :, :]):\n",
            "[[6 1 4]\n",
            " [7 4 7]\n",
            " [8 3 3]]\n"
          ]
        }
      ]
    },
    {
      "cell_type": "code",
      "source": [],
      "metadata": {
        "id": "45Lw9keBc1ag"
      },
      "execution_count": null,
      "outputs": []
    },
    {
      "cell_type": "code",
      "source": [
        "## For the array arr = np.array([10, 20, 30, 40, 50]), how would you slice and reverse the array to get [50, 40, 30, 20, 10]?\n",
        "# Create the 1D NumPy array\n",
        "arr = np.array([10, 20, 30, 40, 50])\n",
        "\n",
        "# Reverse the array using slicing\n",
        "reversed_arr = arr[::-1]  # The slice notation with -1 reverses the array\n",
        "\n",
        "# Print the reversed array\n",
        "print(\"Reversed Array:\", reversed_arr)"
      ],
      "metadata": {
        "colab": {
          "base_uri": "https://localhost:8080/"
        },
        "id": "PZXqs5Mjc1dp",
        "outputId": "fa4d24c9-7f40-4ae4-d78f-60d3d112c5a7"
      },
      "execution_count": 22,
      "outputs": [
        {
          "output_type": "stream",
          "name": "stdout",
          "text": [
            "Reversed Array: [50 40 30 20 10]\n"
          ]
        }
      ]
    },
    {
      "cell_type": "code",
      "source": [],
      "metadata": {
        "id": "uWSDERhbc1hB"
      },
      "execution_count": null,
      "outputs": []
    },
    {
      "cell_type": "code",
      "source": [
        "## Given two 1D arrays a = np.array([1, 2, 3]) and b = np.array([4, 5, 6]), write a code to calculate their dot product using NumPy.\n",
        "# Create the 1D NumPy arrays\n",
        "a = np.array([1, 2, 3])\n",
        "b = np.array([4, 5, 6])\n",
        "\n",
        "# Calculate the dot product using np.dot()\n",
        "dot_product = np.dot(a, b)\n",
        "\n",
        "# Print the result\n",
        "print(\"dot_product = a @ b\", dot_product)"
      ],
      "metadata": {
        "colab": {
          "base_uri": "https://localhost:8080/"
        },
        "id": "V3LC9Mn0c1ka",
        "outputId": "d3ea375b-6596-461d-c48a-ab6d6abdbcee"
      },
      "execution_count": 24,
      "outputs": [
        {
          "output_type": "stream",
          "name": "stdout",
          "text": [
            "dot_product = a @ b 32\n"
          ]
        }
      ]
    },
    {
      "cell_type": "code",
      "source": [],
      "metadata": {
        "id": "J2oSSV1hRb_B"
      },
      "execution_count": null,
      "outputs": []
    }
  ]
}